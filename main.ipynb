{
 "cells": [
  {
   "cell_type": "code",
   "execution_count": 1,
   "metadata": {},
   "outputs": [
    {
     "name": "stdout",
     "output_type": "stream",
     "text": [
      "Wed Jul 10 15:07:05 2024       \n",
      "+---------------------------------------------------------------------------------------+\n",
      "| NVIDIA-SMI 536.99                 Driver Version: 536.99       CUDA Version: 12.2     |\n",
      "|-----------------------------------------+----------------------+----------------------+\n",
      "| GPU  Name                     TCC/WDDM  | Bus-Id        Disp.A | Volatile Uncorr. ECC |\n",
      "| Fan  Temp   Perf          Pwr:Usage/Cap |         Memory-Usage | GPU-Util  Compute M. |\n",
      "|                                         |                      |               MIG M. |\n",
      "|=========================================+======================+======================|\n",
      "|   0  NVIDIA GeForce RTX 3060      WDDM  | 00000000:0B:00.0  On |                  N/A |\n",
      "| 40%   35C    P0              43W / 170W |    686MiB / 12288MiB |      1%      Default |\n",
      "|                                         |                      |                  N/A |\n",
      "+-----------------------------------------+----------------------+----------------------+\n",
      "                                                                                         \n",
      "+---------------------------------------------------------------------------------------+\n",
      "| Processes:                                                                            |\n",
      "|  GPU   GI   CI        PID   Type   Process name                            GPU Memory |\n",
      "|        ID   ID                                                             Usage      |\n",
      "|=======================================================================================|\n",
      "|    0   N/A  N/A      1272    C+G   ...crosoft\\Edge\\Application\\msedge.exe    N/A      |\n",
      "|    0   N/A  N/A      1864    C+G   ...ekyb3d8bbwe\\PhoneExperienceHost.exe    N/A      |\n",
      "|    0   N/A  N/A      8736    C+G   ...les\\Microsoft OneDrive\\OneDrive.exe    N/A      |\n",
      "|    0   N/A  N/A     10624    C+G   C:\\Windows\\explorer.exe                   N/A      |\n",
      "|    0   N/A  N/A     11496    C+G   ...2txyewy\\StartMenuExperienceHost.exe    N/A      |\n",
      "|    0   N/A  N/A     13472    C+G   ...siveControlPanel\\SystemSettings.exe    N/A      |\n",
      "|    0   N/A  N/A     13612    C+G   ...nt.CBS_cw5n1h2txyewy\\SearchHost.exe    N/A      |\n",
      "|    0   N/A  N/A     14284    C+G   ...on\\126.0.2592.87\\msedgewebview2.exe    N/A      |\n",
      "|    0   N/A  N/A     17620    C+G   ...oogle\\Chrome\\Application\\chrome.exe    N/A      |\n",
      "|    0   N/A  N/A     18192    C+G   ...Programs\\Microsoft VS Code\\Code.exe    N/A      |\n",
      "|    0   N/A  N/A     20164    C+G   ...CBS_cw5n1h2txyewy\\TextInputHost.exe    N/A      |\n",
      "|    0   N/A  N/A     24480    C+G   ...5n1h2txyewy\\ShellExperienceHost.exe    N/A      |\n",
      "+---------------------------------------------------------------------------------------+\n"
     ]
    }
   ],
   "source": [
    "!nvidia-smi"
   ]
  },
  {
   "cell_type": "code",
   "execution_count": 2,
   "metadata": {},
   "outputs": [
    {
     "name": "stdout",
     "output_type": "stream",
     "text": [
      "e:\\parking-detection-yolov9-mask-rcnn\n"
     ]
    }
   ],
   "source": [
    "import os\n",
    "HOME = os.getcwd()\n",
    "print(HOME)"
   ]
  },
  {
   "cell_type": "code",
   "execution_count": 3,
   "metadata": {},
   "outputs": [
    {
     "name": "stdout",
     "output_type": "stream",
     "text": [
      "e:\\parking-detection-yolov9-mask-rcnn\\yolov9\n"
     ]
    },
    {
     "name": "stderr",
     "output_type": "stream",
     "text": [
      "fatal: destination path 'yolov9' already exists and is not an empty directory.\n"
     ]
    }
   ],
   "source": [
    "!git clone https://github.com/SkalskiP/yolov9.git\n",
    "%cd yolov9/\n",
    "!pip install -r requirements.txt -q"
   ]
  },
  {
   "cell_type": "code",
   "execution_count": 4,
   "metadata": {},
   "outputs": [
    {
     "name": "stdout",
     "output_type": "stream",
     "text": [
      "[WinError 2] The system cannot find the file specified: 'detectron2/'\n",
      "e:\\parking-detection-yolov9-mask-rcnn\\yolov9\n"
     ]
    },
    {
     "name": "stderr",
     "output_type": "stream",
     "text": [
      "Cloning into 'detectron2'...\n",
      "Updating files:  22% (186/827)\n",
      "Updating files:  23% (191/827)\n",
      "Updating files:  24% (199/827)\n",
      "Updating files:  25% (207/827)\n",
      "Updating files:  26% (216/827)\n",
      "Updating files:  27% (224/827)\n",
      "Updating files:  28% (232/827)\n",
      "Updating files:  29% (240/827)\n",
      "Updating files:  30% (249/827)\n",
      "Updating files:  31% (257/827)\n",
      "Updating files:  32% (265/827)\n",
      "Updating files:  33% (273/827)\n",
      "Updating files:  34% (282/827)\n",
      "Updating files:  35% (290/827)\n",
      "Updating files:  36% (298/827)\n",
      "Updating files:  37% (306/827)\n",
      "Updating files:  38% (315/827)\n",
      "Updating files:  39% (323/827)\n",
      "Updating files:  40% (331/827)\n",
      "Updating files:  40% (333/827)\n",
      "Updating files:  41% (340/827)\n",
      "Updating files:  42% (348/827)\n",
      "Updating files:  43% (356/827)\n",
      "Updating files:  44% (364/827)\n",
      "Updating files:  45% (373/827)\n",
      "Updating files:  46% (381/827)\n",
      "Updating files:  47% (389/827)\n",
      "Updating files:  48% (397/827)\n",
      "Updating files:  49% (406/827)\n",
      "Updating files:  50% (414/827)\n",
      "Updating files:  51% (422/827)\n",
      "Updating files:  52% (431/827)\n",
      "Updating files:  53% (439/827)\n",
      "Updating files:  54% (447/827)\n",
      "Updating files:  55% (455/827)\n",
      "Updating files:  56% (464/827)\n",
      "Updating files:  57% (472/827)\n",
      "Updating files:  58% (480/827)\n",
      "Updating files:  59% (488/827)\n",
      "Updating files:  60% (497/827)\n",
      "Updating files:  61% (505/827)\n",
      "Updating files:  61% (508/827)\n",
      "Updating files:  62% (513/827)\n",
      "Updating files:  63% (522/827)\n",
      "Updating files:  64% (530/827)\n",
      "Updating files:  65% (538/827)\n",
      "Updating files:  66% (546/827)\n",
      "Updating files:  67% (555/827)\n",
      "Updating files:  68% (563/827)\n",
      "Updating files:  69% (571/827)\n",
      "Updating files:  70% (579/827)\n",
      "Updating files:  71% (588/827)\n",
      "Updating files:  72% (596/827)\n",
      "Updating files:  73% (604/827)\n",
      "Updating files:  74% (612/827)\n",
      "Updating files:  75% (621/827)\n",
      "Updating files:  76% (629/827)\n",
      "Updating files:  77% (637/827)\n",
      "Updating files:  78% (646/827)\n",
      "Updating files:  78% (652/827)\n",
      "Updating files:  79% (654/827)\n",
      "Updating files:  80% (662/827)\n",
      "Updating files:  81% (670/827)\n",
      "Updating files:  82% (679/827)\n",
      "Updating files:  83% (687/827)\n",
      "Updating files:  84% (695/827)\n",
      "Updating files:  85% (703/827)\n",
      "Updating files:  86% (712/827)\n",
      "Updating files:  87% (720/827)\n",
      "Updating files:  88% (728/827)\n",
      "Updating files:  89% (737/827)\n",
      "Updating files:  90% (745/827)\n",
      "Updating files:  91% (753/827)\n",
      "Updating files:  92% (761/827)\n",
      "Updating files:  93% (770/827)\n",
      "Updating files:  94% (778/827)\n",
      "Updating files:  95% (786/827)\n",
      "Updating files:  96% (794/827)\n",
      "Updating files:  97% (803/827)\n",
      "Updating files:  97% (807/827)\n",
      "Updating files:  98% (811/827)\n",
      "Updating files:  99% (819/827)\n",
      "Updating files: 100% (827/827)\n",
      "Updating files: 100% (827/827), done.\n"
     ]
    }
   ],
   "source": [
    "%cd detectron2\n",
    "!git clone https://github.com/facebookresearch/detectron2.git\n"
   ]
  },
  {
   "cell_type": "code",
   "execution_count": 5,
   "metadata": {},
   "outputs": [
    {
     "name": "stderr",
     "output_type": "stream",
     "text": [
      "ERROR: detectron2 is not a valid editable requirement. It should either be a path to a local project or a VCS URL (beginning with bzr+http, bzr+https, bzr+ssh, bzr+sftp, bzr+ftp, bzr+lp, bzr+file, git+http, git+https, git+ssh, git+git, git+file, hg+file, hg+http, hg+https, hg+ssh, hg+static-http, svn+ssh, svn+http, svn+https, svn+svn, svn+file).\n"
     ]
    }
   ],
   "source": []
  }
 ],
 "metadata": {
  "kernelspec": {
   "display_name": "Python 3",
   "language": "python",
   "name": "python3"
  },
  "language_info": {
   "codemirror_mode": {
    "name": "ipython",
    "version": 3
   },
   "file_extension": ".py",
   "mimetype": "text/x-python",
   "name": "python",
   "nbconvert_exporter": "python",
   "pygments_lexer": "ipython3",
   "version": "3.12.4"
  }
 },
 "nbformat": 4,
 "nbformat_minor": 2
}
